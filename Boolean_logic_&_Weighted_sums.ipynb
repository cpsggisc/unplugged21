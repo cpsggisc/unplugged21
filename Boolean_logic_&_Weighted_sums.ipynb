{
  "nbformat": 4,
  "nbformat_minor": 0,
  "metadata": {
    "colab": {
      "name": "Boolean logic & Weighted sums.ipynb",
      "provenance": [],
      "authorship_tag": "ABX9TyNWQETEFyTGjcIYjjGCOvYG",
      "include_colab_link": true
    },
    "kernelspec": {
      "name": "python3",
      "display_name": "Python 3"
    }
  },
  "cells": [
    {
      "cell_type": "markdown",
      "metadata": {
        "id": "view-in-github",
        "colab_type": "text"
      },
      "source": [
        "<a href=\"https://colab.research.google.com/github/dhsgisc/unplugged21/blob/main/Boolean_logic_%26_Weighted_sums.ipynb\" target=\"_parent\"><img src=\"https://colab.research.google.com/assets/colab-badge.svg\" alt=\"Open In Colab\"/></a>"
      ]
    },
    {
      "cell_type": "markdown",
      "metadata": {
        "id": "AJyFhiRXcT3d"
      },
      "source": [
        "| x | y | x AND y |\r\n",
        "|---|---|---------|\r\n",
        "| 0 | 0 | 0 |\r\n",
        "| 0 | 1 | 0 |\r\n",
        "| 1 | 0 | 0 |\r\n",
        "| 1 | 1 | 1 |"
      ]
    },
    {
      "cell_type": "code",
      "metadata": {
        "id": "COWk3uY_3Ac2"
      },
      "source": [
        "# print AND truth table\r\n"
      ],
      "execution_count": null,
      "outputs": []
    },
    {
      "cell_type": "markdown",
      "metadata": {
        "id": "hc4oG2Vo2--w"
      },
      "source": [
        "| x | y | x OR y |\r\n",
        "|---|---|---------|\r\n",
        "| 0 | 0 | 0 |\r\n",
        "| 0 | 1 | 1 |\r\n",
        "| 1 | 0 | 1 |\r\n",
        "| 1 | 1 | 1 |"
      ]
    },
    {
      "cell_type": "code",
      "metadata": {
        "id": "tOhVImhc3LxO"
      },
      "source": [
        ""
      ],
      "execution_count": null,
      "outputs": []
    },
    {
      "cell_type": "code",
      "metadata": {
        "id": "v2m0tEZjcKOG"
      },
      "source": [
        "# print OR truth table\r\n"
      ],
      "execution_count": null,
      "outputs": []
    },
    {
      "cell_type": "markdown",
      "metadata": {
        "id": "jGGDuzIe3O3H"
      },
      "source": [
        "# Weighted Sums\r\n"
      ]
    }
  ]
}